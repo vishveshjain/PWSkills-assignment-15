{
 "cells": [
  {
   "cell_type": "markdown",
   "id": "be83f2df-7d77-40c3-9f99-d4711ac74ee1",
   "metadata": {},
   "source": [
    "## Q1. What is a database? Differentiate between SQL and NoSQL databases."
   ]
  },
  {
   "cell_type": "markdown",
   "id": "78281e0c-6b74-4047-af9e-ebc01af1f20d",
   "metadata": {},
   "source": [
    "A database is a collection of structured data that is organized in a way that enables efficient storage, retrieval, and manipulation of information. Databases are commonly used in software applications, websites, and other information systems to store and manage large amounts of data.\n",
    "\n",
    "SQL (Structured Query Language) and NoSQL (Not Only SQL) are two different types of databases that have different architectures, data models, and query languages.\n",
    "\n",
    "SQL databases are relational databases that store data in tables with rows and columns. They use a standardized query language, SQL, to manipulate and retrieve data. SQL databases are ideal for structured data with well-defined relationships between different data points. Some examples of SQL databases include MySQL, PostgreSQL, and Oracle.\n",
    "\n",
    "NoSQL databases, on the other hand, are non-relational databases that store data in a more flexible way. They can handle unstructured, semi-structured, and structured data, and they do not require a fixed schema or data model. NoSQL databases use different data models, such as key-value, document, graph, or column-family. Examples of NoSQL databases include MongoDB, Cassandra, and Neo4j.\n",
    "\n",
    "The choice between SQL and NoSQL databases depends on the specific needs of the application or system. SQL databases are good for handling structured data that follows a specific schema, while NoSQL databases are more flexible and scalable for handling unstructured or semi-structured data. NoSQL databases are often preferred for web-scale applications and big data projects, while SQL databases are commonly used in traditional enterprise applications.\n",
    "\n",
    "\n",
    "\n"
   ]
  },
  {
   "cell_type": "markdown",
   "id": "882421ac-4828-448a-a746-9f368e4c3de1",
   "metadata": {},
   "source": [
    "## Q2. What is DDL? Explain why CREATE, DROP, ALTER, and TRUNCATE are used with an example."
   ]
  },
  {
   "cell_type": "markdown",
   "id": "9fd79382-6366-4573-9097-4fe1d967970b",
   "metadata": {},
   "source": [
    "DDL stands for Data Definition Language, which is a set of SQL commands that are used to define and manage the structure of database objects such as tables, indexes, views, and constraints. DDL statements are used to create, modify, and delete database objects, as well as to grant or revoke permissions on those objects.\n",
    "\n",
    "Here are some examples of DDL statements and their uses:\n",
    "\n",
    "CREATE: The CREATE statement is used to create new database objects, such as tables, views, indexes, and stored procedures. For example, the following SQL statement creates a new table called \"users\" with three columns: \"id\", \"name\", and \"email\":"
   ]
  },
  {
   "cell_type": "code",
   "execution_count": null,
   "id": "f7b15297-a816-45a9-95a9-465d4684d47b",
   "metadata": {},
   "outputs": [],
   "source": [
    "CREATE TABLE users (\n",
    "  id INT PRIMARY KEY,\n",
    "  name VARCHAR(50),\n",
    "  email VARCHAR(100)\n",
    ");\n"
   ]
  },
  {
   "cell_type": "markdown",
   "id": "d91a53a1-45d1-454e-80de-1de7aece37f7",
   "metadata": {},
   "source": [
    "DROP: The DROP statement is used to remove an existing database object. For example, the following SQL statement drops the \"users\" table that was created in the previous example:"
   ]
  },
  {
   "cell_type": "code",
   "execution_count": null,
   "id": "edb26c55-bd83-4884-94b6-4f6ee268f32b",
   "metadata": {},
   "outputs": [],
   "source": [
    "DROP TABLE users;\n"
   ]
  },
  {
   "cell_type": "markdown",
   "id": "4f563397-cf3e-4ba4-a18a-d1b080a635e1",
   "metadata": {},
   "source": [
    "ALTER: The ALTER statement is used to modify an existing database object, such as a table or a view. For example, the following SQL statement adds a new column called \"age\" to the \"users\" table:"
   ]
  },
  {
   "cell_type": "markdown",
   "id": "f7cc9fdd-c018-4bbc-9d1e-1890696ce40c",
   "metadata": {},
   "source": [
    "ALTER TABLE users ADD COLUMN age INT;\n"
   ]
  },
  {
   "cell_type": "markdown",
   "id": "135b4d8a-eb76-4bb4-9513-3118ea3add50",
   "metadata": {},
   "source": [
    "TRUNCATE: The TRUNCATE statement is used to delete all rows from a table, but the table structure remains intact. For example, the following SQL statement deletes all rows from the \"users\" table:"
   ]
  },
  {
   "cell_type": "code",
   "execution_count": null,
   "id": "fb60663c-6641-4321-a4ff-6333dd14b23c",
   "metadata": {},
   "outputs": [],
   "source": [
    "TRUNCATE TABLE users;\n"
   ]
  },
  {
   "cell_type": "markdown",
   "id": "5db676b5-2c3f-440d-b4ba-d984cd88ca0b",
   "metadata": {},
   "source": [
    "## Q3. What is DML? Explain INSERT, UPDATE, and DELETE with an example."
   ]
  },
  {
   "cell_type": "markdown",
   "id": "028ce484-c6b0-49ff-a064-f89c9ab34dc7",
   "metadata": {},
   "source": [
    "DML stands for Data Manipulation Language, which is a set of SQL commands used to manipulate and modify the data stored in a database. DML statements are used to insert, update, delete, and retrieve data from a database. Here are some examples of DML statements and their uses:\n",
    "\n",
    "INSERT: The INSERT statement is used to add new rows to a table. For example, the following SQL statement inserts a new record into a table named \"users\" with the values \"John Doe\" for the name column, \"johndoe@example.com\" for the email column, and 25 for the age column:"
   ]
  },
  {
   "cell_type": "code",
   "execution_count": null,
   "id": "a170e15d-76d4-42cd-9486-375cf9a5a23a",
   "metadata": {},
   "outputs": [],
   "source": [
    "INSERT INTO users (name, email, age) VALUES ('John Doe', 'johndoe@example.com', 25);\n"
   ]
  },
  {
   "cell_type": "markdown",
   "id": "ea2b8f64-c775-4eba-b658-32d05e547b5e",
   "metadata": {},
   "source": [
    "UPDATE: The UPDATE statement is used to modify existing data in a table. For example, the following SQL statement updates the email of the user with the name \"John Doe\" to \"john.doe@example.com\":"
   ]
  },
  {
   "cell_type": "code",
   "execution_count": null,
   "id": "91a94ee4-c811-4017-b31f-e0ee5d7b303e",
   "metadata": {},
   "outputs": [],
   "source": [
    "UPDATE users SET email = 'john.doe@example.com' WHERE name = 'John Doe';\n"
   ]
  },
  {
   "cell_type": "markdown",
   "id": "230f1597-1bf4-495d-84b1-bf4965415241",
   "metadata": {},
   "source": [
    "DML stands for Data Manipulation Language, which is a set of SQL commands used to manipulate and modify the data stored in a database. DML statements are used to insert, update, delete, and retrieve data from a database. Here are some examples of DML statements and their uses:\n",
    "\n",
    "INSERT: The INSERT statement is used to add new rows to a table. For example, the following SQL statement inserts a new record into a table named \"users\" with the values \"John Doe\" for the name column, \"johndoe@example.com\" for the email column, and 25 for the age column:\n",
    "sql\n",
    "Copy code\n",
    "INSERT INTO users (name, email, age) VALUES ('John Doe', 'johndoe@example.com', 25);\n",
    "UPDATE: The UPDATE statement is used to modify existing data in a table. For example, the following SQL statement updates the email of the user with the name \"John Doe\" to \"john.doe@example.com\":\n",
    "sql\n",
    "Copy code\n",
    "UPDATE users SET email = 'john.doe@example.com' WHERE name = 'John Doe';\n",
    "DELETE: The DELETE statement is used to remove existing data from a table. For example, the following SQL statement deletes the user with the name \"John Doe\" from the \"users\" table:"
   ]
  },
  {
   "cell_type": "code",
   "execution_count": null,
   "id": "a4e4351d-0e1d-44de-a842-6800c4552741",
   "metadata": {},
   "outputs": [],
   "source": [
    "DELETE FROM users WHERE name = 'John Doe';\n"
   ]
  },
  {
   "cell_type": "markdown",
   "id": "1cbb6667-452a-4813-b07c-190f1b649dd0",
   "metadata": {},
   "source": [
    "## Q4. What is DQL? Explain SELECT with an example."
   ]
  },
  {
   "cell_type": "markdown",
   "id": "428ca974-0689-4f64-97a3-53c27bc6efc8",
   "metadata": {},
   "source": [
    "DQL stands for Data Query Language, which is a subset of SQL used to retrieve data from a database. DQL statements are used to query the database and retrieve specific data based on specified criteria. The most commonly used DQL statement is SELECT.\n",
    "\n",
    "SELECT is used to retrieve data from one or more tables in a database. It allows you to specify the columns to retrieve, the table or tables to retrieve them from, and any conditions that the retrieved data must meet. Here's an example of a SELECT statement:"
   ]
  },
  {
   "cell_type": "code",
   "execution_count": null,
   "id": "f1d93957-3dca-4ea5-9f63-fcb145f986ee",
   "metadata": {},
   "outputs": [],
   "source": [
    "SELECT name, email FROM users WHERE age > 25;\n"
   ]
  },
  {
   "cell_type": "markdown",
   "id": "544341c3-b741-4d97-acb0-a1b08ed82fb0",
   "metadata": {},
   "source": [
    "## Q5. Explain Primary Key and Foreign Key."
   ]
  },
  {
   "cell_type": "markdown",
   "id": "b553cec0-2568-4ed0-bc5b-f7d092543849",
   "metadata": {},
   "source": [
    "A primary key is a column or set of columns in a table that uniquely identifies each row or record in that table. It ensures that each row in the table is uniquely identifiable and is used to enforce data integrity constraints. A primary key column cannot contain null values and must have a unique value for each row.\n",
    "\n",
    "Here's an example of a table with a primary key:\n",
    "\n",
    "sql\n"
   ]
  },
  {
   "cell_type": "code",
   "execution_count": null,
   "id": "005f5a3a-ba6a-457c-81ef-2f9d5a6ebae0",
   "metadata": {},
   "outputs": [],
   "source": [
    "CREATE TABLE students (\n",
    "    id INT PRIMARY KEY,\n",
    "    name VARCHAR(50),\n",
    "    email VARCHAR(100),\n",
    "    age INT\n",
    ");\n"
   ]
  },
  {
   "cell_type": "markdown",
   "id": "b59f3c0d-c4fa-427b-ac43-74268b9c9bc9",
   "metadata": {},
   "source": [
    "A foreign key is a column or set of columns in a table that refers to the primary key of another table. It establishes a link between two tables, which allows data to be retrieved from multiple tables using a single query. A foreign key is used to enforce referential integrity constraints, which ensure that the data in the foreign key column matches the data in the primary key column of the other table.\n",
    "\n",
    "Here's an example of a table with a foreign key:"
   ]
  },
  {
   "cell_type": "code",
   "execution_count": null,
   "id": "7ebf3108-8260-4af8-9178-940b22668435",
   "metadata": {},
   "outputs": [],
   "source": [
    "CREATE TABLE courses (\n",
    "    id INT PRIMARY KEY,\n",
    "    name VARCHAR(50),\n",
    "    instructor_id INT,\n",
    "    FOREIGN KEY (instructor_id) REFERENCES instructors(id)\n",
    ");\n"
   ]
  },
  {
   "cell_type": "markdown",
   "id": "c528c11b-7e0a-4f9b-a6c1-54135a35dbc7",
   "metadata": {},
   "source": [
    "## Q6. Write a python code to connect MySQL to python. Explain the cursor() and execute() method."
   ]
  },
  {
   "cell_type": "markdown",
   "id": "71f137b6-2ae7-4e4e-825e-f4fa7f32cee2",
   "metadata": {},
   "source": [
    "To connect MySQL to Python, we need to have the mysql-connector-python library installed. We can install it using pip, like this:"
   ]
  },
  {
   "cell_type": "code",
   "execution_count": 12,
   "id": "45764f3d-ff99-4b48-a6ef-12d8b7425b25",
   "metadata": {},
   "outputs": [
    {
     "name": "stdout",
     "output_type": "stream",
     "text": [
      "Collecting mysql-connector-python\n",
      "  Downloading mysql_connector_python-8.0.32-cp310-cp310-manylinux1_x86_64.whl (23.5 MB)\n",
      "\u001b[2K     \u001b[90m━━━━━━━━━━━━━━━━━━━━━━━━━━━━━━━━━━━━━━━━\u001b[0m \u001b[32m23.5/23.5 MB\u001b[0m \u001b[31m27.3 MB/s\u001b[0m eta \u001b[36m0:00:00\u001b[0m00:01\u001b[0m00:01\u001b[0m\n",
      "\u001b[?25hCollecting protobuf<=3.20.3,>=3.11.0\n",
      "  Downloading protobuf-3.20.3-cp310-cp310-manylinux_2_12_x86_64.manylinux2010_x86_64.whl (1.1 MB)\n",
      "\u001b[2K     \u001b[90m━━━━━━━━━━━━━━━━━━━━━━━━━━━━━━━━━━━━━━━━\u001b[0m \u001b[32m1.1/1.1 MB\u001b[0m \u001b[31m57.2 MB/s\u001b[0m eta \u001b[36m0:00:00\u001b[0m\n",
      "\u001b[?25hInstalling collected packages: protobuf, mysql-connector-python\n",
      "  Attempting uninstall: protobuf\n",
      "    Found existing installation: protobuf 4.21.11\n",
      "    Uninstalling protobuf-4.21.11:\n",
      "      Successfully uninstalled protobuf-4.21.11\n",
      "Successfully installed mysql-connector-python-8.0.32 protobuf-3.20.3\n",
      "Note: you may need to restart the kernel to use updated packages.\n"
     ]
    }
   ],
   "source": [
    "pip install mysql-connector-python\n"
   ]
  },
  {
   "cell_type": "markdown",
   "id": "670f533d-0bf6-47ef-a614-76cc74ef52b9",
   "metadata": {},
   "source": [
    "Once we have installed the library, we can connect to a MySQL database using the following Python code:"
   ]
  },
  {
   "cell_type": "code",
   "execution_count": null,
   "id": "18f7d2e1-c114-4b18-9682-9fd499647aec",
   "metadata": {},
   "outputs": [],
   "source": [
    "import mysql.connector\n",
    "\n",
    "mydb = mysql.connector.connect(\n",
    "  host=\"localhost\",\n",
    "  user=\"username\",\n",
    "  password=\"password\",\n",
    "  database=\"database\"\n",
    ")\n",
    "\n",
    "mycursor = mydb.cursor()\n"
   ]
  },
  {
   "cell_type": "markdown",
   "id": "a388d15e-f601-4c10-9c53-7cf6ee60bd3d",
   "metadata": {},
   "source": [
    "In this code, we first import the mysql.connector module and use the connect() method to establish a connection to the MySQL database. We need to provide the database connection details, such as the host, username, password, and database name.\n",
    "\n",
    "After establishing the connection, we create a cursor object using the cursor() method of the database connection object. The cursor object allows us to execute SQL statements on the database.\n",
    "\n",
    "The execute() method is used to execute an SQL statement on the database using the cursor object. It takes an SQL statement as its parameter and returns the result of the statement, if any. Here's an example of how to use the execute() method to execute a SELECT statement:"
   ]
  },
  {
   "cell_type": "code",
   "execution_count": null,
   "id": "70349cf1-2246-474a-a340-a5cd02a6249f",
   "metadata": {},
   "outputs": [],
   "source": [
    "sql = \"SELECT * FROM customers\"\n",
    "\n",
    "mycursor.execute(sql)\n",
    "\n",
    "myresult = mycursor.fetchall()\n",
    "\n",
    "for x in myresult:\n",
    "  print(x)\n"
   ]
  },
  {
   "cell_type": "markdown",
   "id": "70021818-c7a5-468d-a91e-ecac98203210",
   "metadata": {},
   "source": [
    "In this code, you first define an SQL SELECT statement and store it in the sql variable. You then call the execute() method on the cursor object, passing the sql variable as its parameter. This executes the SELECT statement on the database and returns the result.\n",
    "\n",
    "The fetchall() method is used to fetch all the rows returned by the SELECT statement. It returns a list of tuples, where each tuple represents a row in the result set. You can then loop through the result set and print each row, as shown in the code above.\n",
    "\n",
    "In summary, the cursor() method is used to create a cursor object, which allows you to execute SQL statements on the database. The execute() method is used to execute an SQL statement on the database using the cursor object, and the fetchall() method is used to retrieve the results of the SQL statement."
   ]
  },
  {
   "cell_type": "markdown",
   "id": "6d9eda29-6dc8-45e7-81ce-1ad776c44a4a",
   "metadata": {},
   "source": [
    "## Q7. Give the order of execution of SQL clauses in an SQL query."
   ]
  },
  {
   "cell_type": "markdown",
   "id": "a1224eae-d87c-43de-961b-3973b83c096e",
   "metadata": {},
   "source": [
    "The order of execution of SQL clauses in an SQL query can be summarized as follows:\n",
    "\n",
    "FROM clause: The FROM clause specifies the table or tables from which the data will be retrieved. If multiple tables are used, they may be joined using the JOIN clause.\n",
    "\n",
    "WHERE clause: The WHERE clause filters the data based on a specified condition or set of conditions. It is used to retrieve only the rows that meet the specified criteria.\n",
    "\n",
    "GROUP BY clause: The GROUP BY clause is used to group the result set by one or more columns. It is often used in conjunction with aggregate functions, such as COUNT, SUM, AVG, etc.\n",
    "\n",
    "HAVING clause: The HAVING clause is used to filter the result set based on a specified condition or set of conditions. It is similar to the WHERE clause, but it is applied after the data has been grouped by the GROUP BY clause.\n",
    "\n",
    "SELECT clause: The SELECT clause specifies the columns that will be included in the result set. It can also be used to apply functions or expressions to the data, such as CONCAT, DATE_FORMAT, etc.\n",
    "\n",
    "ORDER BY clause: The ORDER BY clause is used to sort the result set based on one or more columns. It can sort the data in ascending or descending order.\n",
    "\n",
    "LIMIT clause: The LIMIT clause is used to limit the number of rows returned by the query. It is often used in conjunction with the ORDER BY clause to retrieve the top N rows based on a specified criteria.\n",
    "\n",
    "It's important to note that not all clauses are required in every query. The basic syntax of an SQL query is:"
   ]
  },
  {
   "cell_type": "code",
   "execution_count": null,
   "id": "1495b23d-32cc-49ec-9d5b-32fdc96c2cb4",
   "metadata": {},
   "outputs": [],
   "source": [
    "SELECT column1, column2, ...\n",
    "FROM table_name\n",
    "WHERE condition;\n"
   ]
  },
  {
   "cell_type": "code",
   "execution_count": null,
   "id": "38224770-e8ff-4005-9059-2d1def4155b0",
   "metadata": {},
   "outputs": [],
   "source": []
  }
 ],
 "metadata": {
  "kernelspec": {
   "display_name": "Python 3 (ipykernel)",
   "language": "python",
   "name": "python3"
  },
  "language_info": {
   "codemirror_mode": {
    "name": "ipython",
    "version": 3
   },
   "file_extension": ".py",
   "mimetype": "text/x-python",
   "name": "python",
   "nbconvert_exporter": "python",
   "pygments_lexer": "ipython3",
   "version": "3.10.8"
  }
 },
 "nbformat": 4,
 "nbformat_minor": 5
}
